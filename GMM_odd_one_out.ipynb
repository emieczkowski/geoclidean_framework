{
 "cells": [
  {
   "cell_type": "code",
   "execution_count": 42,
   "id": "93b30bc1-fa4b-45ea-91f7-4501865321fc",
   "metadata": {},
   "outputs": [],
   "source": [
    "from tensorflow.keras.applications import VGG16\n",
    "import tensorflow as tf\n",
    "import numpy as np\n",
    "import os\n",
    "from PIL import Image\n",
    "from sklearn.ensemble import RandomForestClassifier\n",
    "from sklearn.model_selection import train_test_split\n",
    "from sklearn.metrics import accuracy_score\n",
    "from sklearn.linear_model import LogisticRegression\n",
    "from sklearn.neural_network import MLPClassifier\n",
    "import matplotlib.pyplot as plt\n",
    "from tensorflow.keras import layers, models\n",
    "from sklearn.mixture import GaussianMixture"
   ]
  },
  {
   "cell_type": "code",
   "execution_count": 102,
   "id": "1926bbca-1a99-45a2-8c14-4b0be0670ab0",
   "metadata": {},
   "outputs": [],
   "source": [
    "def preprocess_img(img_path, size=224):\n",
    "    img = Image.open(img_path).convert(\"RGB\")\n",
    "    img = img.resize((size, size))\n",
    "    img_array = np.array(img) / 255.0  \n",
    "    return img_array "
   ]
  },
  {
   "cell_type": "code",
   "execution_count": 88,
   "id": "a18fd5be-4c62-496a-9861-8ab5726cbc92",
   "metadata": {},
   "outputs": [],
   "source": [
    "def extract_gmm_features(img_path, n_components=4, size=224):\n",
    "    img = preprocess_img(img_path, size)\n",
    "    gmm = GaussianMixture(n_components=n_components, covariance_type='full', random_state=42)\n",
    "    gmm.fit(img.reshape(-1, 3))\n",
    "\n",
    "    mean_vals = gmm.means_.flatten()\n",
    "    covariance_vals = gmm.covariances_.flatten()\n",
    "    features = np.concatenate([mean_vals, covariance_vals])\n",
    "    \n",
    "    return features"
   ]
  },
  {
   "cell_type": "code",
   "execution_count": 101,
   "id": "70b56753-c1d1-4d1d-8822-7d29acfed699",
   "metadata": {},
   "outputs": [],
   "source": [
    "def load_feature_dataset(root_dir, n_components=4, size=224):\n",
    "    X = []\n",
    "    y = []\n",
    "    trial_metadata = []\n",
    "\n",
    "    for rule_type in os.listdir(root_dir):\n",
    "        rule_path = os.path.join(root_dir, rule_type)\n",
    "        if not os.path.isdir(rule_path): continue\n",
    "\n",
    "        for rule_folder in os.listdir(rule_path):\n",
    "            img_folder = os.path.join(rule_path, rule_folder)\n",
    "            if not os.path.isdir(img_folder): continue\n",
    "\n",
    "            img_paths = [\n",
    "                os.path.join(img_folder, \"inlier_0.png\"),\n",
    "                os.path.join(img_folder, \"inlier_1.png\"),\n",
    "                os.path.join(img_folder, \"inlier_2.png\"),\n",
    "                os.path.join(img_folder, \"outlier.png\")\n",
    "            ]\n",
    "\n",
    "            features = [extract_gmm_features(p, n_components, size) for p in img_paths]\n",
    "            paired = list(zip(img_paths, features))\n",
    "            np.random.shuffle(paired)\n",
    "\n",
    "            shuffled_paths, shuffled_features = zip(*paired)\n",
    "            shuffled_features = list(shuffled_features)\n",
    "\n",
    "            outlier_idx = [i for i, path in enumerate(shuffled_paths) if \"outlier\" in path][0]\n",
    "\n",
    "            X.append(shuffled_features)\n",
    "            y.append(outlier_idx)\n",
    "            trial_metadata.append({\n",
    "                \"rule\": rule_type,\n",
    "                \"img_paths\": shuffled_paths,\n",
    "                \"true_outlier_idx\": outlier_idx,\n",
    "            })\n",
    "\n",
    "    return np.array(X), np.array(y), trial_metadata"
   ]
  },
  {
   "cell_type": "code",
   "execution_count": 89,
   "id": "6d5e8274-a52f-4b79-b321-45460d4850cc",
   "metadata": {},
   "outputs": [],
   "source": [
    "X, y, trial_metadata = load_feature_dataset(\"data\", n_components=4, size=224)\n",
    "X_flat = X.reshape((X.shape[0], -1))\n",
    "indices = np.arange(len(X))"
   ]
  },
  {
   "cell_type": "code",
   "execution_count": 100,
   "id": "9a9b7a62-d3fc-4767-af47-61b51a538308",
   "metadata": {},
   "outputs": [
    {
     "name": "stdout",
     "output_type": "stream",
     "text": [
      "Odd-one-out accuracy (GMM feature extractor + MLP): 0.3333333333333333\n"
     ]
    }
   ],
   "source": [
    "clf = MLPClassifier(hidden_layer_sizes=(128,), activation='relu', max_iter=1000)\n",
    "clf.fit(X_train, y_train)\n",
    "y_pred = clf.predict(X_test)\n",
    "acc = accuracy_score(y_test, y_pred)\n",
    "print(\"Odd-one-out accuracy (GMM feature extractor + MLP):\", acc)"
   ]
  },
  {
   "cell_type": "code",
   "execution_count": null,
   "id": "6c55149a-fb27-4a4b-bc7a-15966ad7bb7b",
   "metadata": {},
   "outputs": [],
   "source": []
  },
  {
   "cell_type": "code",
   "execution_count": null,
   "id": "29ddda20-1c56-4839-888a-70abbc675cc2",
   "metadata": {},
   "outputs": [],
   "source": []
  },
  {
   "cell_type": "code",
   "execution_count": null,
   "id": "03559769-867f-44ab-9fd1-f9da0ab6f7cb",
   "metadata": {},
   "outputs": [],
   "source": []
  },
  {
   "cell_type": "code",
   "execution_count": null,
   "id": "57c08e70-ea8d-4a05-8953-d305c567d994",
   "metadata": {},
   "outputs": [],
   "source": []
  }
 ],
 "metadata": {
  "kernelspec": {
   "display_name": "CS551-project",
   "language": "python",
   "name": "cs551-project"
  },
  "language_info": {
   "codemirror_mode": {
    "name": "ipython",
    "version": 3
   },
   "file_extension": ".py",
   "mimetype": "text/x-python",
   "name": "python",
   "nbconvert_exporter": "python",
   "pygments_lexer": "ipython3",
   "version": "3.12.7"
  }
 },
 "nbformat": 4,
 "nbformat_minor": 5
}
